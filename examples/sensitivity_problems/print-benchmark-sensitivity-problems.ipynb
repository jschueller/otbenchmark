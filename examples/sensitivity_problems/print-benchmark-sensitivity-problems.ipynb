{
 "cells": [
  {
   "cell_type": "markdown",
   "id": "fitted-recycling",
   "metadata": {},
   "source": [
    "# Print the sensitivity analysis problems\n",
    "\n",
    "In this example, we show how to print all the sensitivity analysis problems."
   ]
  },
  {
   "cell_type": "code",
   "execution_count": 1,
   "id": "institutional-flash",
   "metadata": {},
   "outputs": [],
   "source": [
    "import openturns as ot\n",
    "import numpy as np\n",
    "import otbenchmark as otb\n",
    "import pandas as pd"
   ]
  },
  {
   "cell_type": "markdown",
   "id": "deadly-muslim",
   "metadata": {},
   "source": [
    "We import the list of problems."
   ]
  },
  {
   "cell_type": "code",
   "execution_count": 2,
   "id": "desirable-practice",
   "metadata": {},
   "outputs": [
    {
     "data": {
      "text/plain": [
       "11"
      ]
     },
     "execution_count": 2,
     "metadata": {},
     "output_type": "execute_result"
    }
   ],
   "source": [
    "benchmarkProblemList = otb.SensitivityBenchmarkProblemList()\n",
    "numberOfProblems = len(benchmarkProblemList)\n",
    "numberOfProblems"
   ]
  },
  {
   "cell_type": "markdown",
   "id": "integrated-specific",
   "metadata": {},
   "source": [
    "For each problem in the benchmark, print the problem name and the exact Sobol' indices."
   ]
  },
  {
   "cell_type": "code",
   "execution_count": 3,
   "id": "brave-durham",
   "metadata": {
    "scrolled": true
   },
   "outputs": [
    {
     "name": "stdout",
     "output_type": "stream",
     "text": [
      "# 0 : GaussianSum  : S =  [0.5,0.5] T= [0.5,0.5] , dimension= 2\n",
      "# 1 : GaussianProduct  : S =  [0,0] T= [1,1] , dimension= 2\n",
      "# 2 : GSobol  : S =  [0.986712,0.00986712,9.86712e-05] T= [0.990034,0.0131566,0.000132] , dimension= 3\n",
      "# 3 : Ishigami  : S =  [0.313905,0.442411,0] T= [0.557589,0.442411,0.243684] , dimension= 3\n",
      "# 4 : Borehole  : S =  [0.66,0,0,0.09,0,0.09,0.09,0.02] T= [0.69,0,0,0.11,0,0.11,0.1,0.02] , dimension= 8\n",
      "# 5 : Dirichlet  : S =  [0.525547,0.233577,0.131387] T= [0.620438,0.310219,0.182482] , dimension= 3\n",
      "# 6 : Flooding  : S =  [0.38,0.13,0.25,0,0.19,0.02,0,0] T= [0.4,0.15,0.25,0.01,0.19,0.02,0,0] , dimension= 8\n",
      "# 7 : Morris  : S =  [0.08,0.08,0.06,0.08,0.06,0.13,0.06,0.13,0.13,0.12,0,0,0,0,0,0,0,0,0,0]#20 T= [0.11,0.11,0.06,0.11,0.06,0.13,0.06,0.13,0.13,0.12,0,0,0,0,0,0,0,0,0,0]#20 , dimension= 20\n",
      "# 8 : N.L. Oscillator  : S =  [0.4,0.03,0.09,0.18,0.12,0.05,0.05,0] T= [0.4,0.04,0.1,0.23,0.16,0.07,0.06,0.01] , dimension= 8\n",
      "# 9 : Borgonovo  : S =  [0.157895,0.157895,0.631579] T= [0.210526,0.210526,0.631579] , dimension= 3\n",
      "# 10 : Oakley-O'Hagan  : S =  [0,0,0,0,0,0.02,0.02,0.03,0.05,0.01,0.1,0.14,0.1,0.11,0.12]#15 T= [0.06,0.06,0.04,0.05,0.02,0.04,0.06,0.08,0.1,0.04,0.15,0.15,0.14,0.14,0.16]#15 , dimension= 15\n"
     ]
    }
   ],
   "source": [
    "for i in range(numberOfProblems):\n",
    "    problem = benchmarkProblemList[i]\n",
    "    name = problem.getName()\n",
    "    first_order_indices = problem.getFirstOrderIndices()\n",
    "    total_order_indices = problem.getTotalOrderIndices()\n",
    "    dimension = problem.getInputDistribution().getDimension()\n",
    "    print(\n",
    "        \"#\",\n",
    "        i,\n",
    "        \":\",\n",
    "        name,\n",
    "        \" : S = \",\n",
    "        first_order_indices,\n",
    "        \"T=\",\n",
    "        total_order_indices,\n",
    "        \", dimension=\",\n",
    "        dimension,\n",
    "    )"
   ]
  },
  {
   "cell_type": "code",
   "execution_count": 4,
   "id": "pointed-philippines",
   "metadata": {},
   "outputs": [
    {
     "data": {
      "text/html": [
       "<div>\n",
       "<style scoped>\n",
       "    .dataframe tbody tr th:only-of-type {\n",
       "        vertical-align: middle;\n",
       "    }\n",
       "\n",
       "    .dataframe tbody tr th {\n",
       "        vertical-align: top;\n",
       "    }\n",
       "\n",
       "    .dataframe thead th {\n",
       "        text-align: right;\n",
       "    }\n",
       "</style>\n",
       "<table border=\"1\" class=\"dataframe\">\n",
       "  <thead>\n",
       "    <tr style=\"text-align: right;\">\n",
       "      <th></th>\n",
       "      <th>$d$</th>\n",
       "    </tr>\n",
       "  </thead>\n",
       "  <tbody>\n",
       "    <tr>\n",
       "      <th>GaussianSum</th>\n",
       "      <td>2</td>\n",
       "    </tr>\n",
       "    <tr>\n",
       "      <th>GaussianProduct</th>\n",
       "      <td>2</td>\n",
       "    </tr>\n",
       "    <tr>\n",
       "      <th>GSobol</th>\n",
       "      <td>3</td>\n",
       "    </tr>\n",
       "    <tr>\n",
       "      <th>Ishigami</th>\n",
       "      <td>3</td>\n",
       "    </tr>\n",
       "    <tr>\n",
       "      <th>Borehole</th>\n",
       "      <td>8</td>\n",
       "    </tr>\n",
       "    <tr>\n",
       "      <th>Dirichlet</th>\n",
       "      <td>3</td>\n",
       "    </tr>\n",
       "    <tr>\n",
       "      <th>Flooding</th>\n",
       "      <td>8</td>\n",
       "    </tr>\n",
       "    <tr>\n",
       "      <th>Morris</th>\n",
       "      <td>20</td>\n",
       "    </tr>\n",
       "    <tr>\n",
       "      <th>N.L. Oscillator</th>\n",
       "      <td>8</td>\n",
       "    </tr>\n",
       "    <tr>\n",
       "      <th>Borgonovo</th>\n",
       "      <td>3</td>\n",
       "    </tr>\n",
       "    <tr>\n",
       "      <th>Oakley-O'Hagan</th>\n",
       "      <td>15</td>\n",
       "    </tr>\n",
       "  </tbody>\n",
       "</table>\n",
       "</div>"
      ],
      "text/plain": [
       "                $d$\n",
       "GaussianSum       2\n",
       "GaussianProduct   2\n",
       "GSobol            3\n",
       "Ishigami          3\n",
       "Borehole          8\n",
       "Dirichlet         3\n",
       "Flooding          8\n",
       "Morris           20\n",
       "N.L. Oscillator   8\n",
       "Borgonovo         3\n",
       "Oakley-O'Hagan   15"
      ]
     },
     "execution_count": 4,
     "metadata": {},
     "output_type": "execute_result"
    }
   ],
   "source": [
    "problem_names = [\n",
    "    benchmarkProblem.getName() for benchmarkProblem in benchmarkProblemList\n",
    "]\n",
    "columns = [\"$d$\"]\n",
    "df_problems_list = pd.DataFrame(index=problem_names, columns=columns)\n",
    "for problem in benchmarkProblemList:\n",
    "    name = problem.getName()\n",
    "    d = problem.getInputDistribution().getDimension()\n",
    "    df_problems_list.loc[name] = [int(d)]\n",
    "df_problems_list"
   ]
  },
  {
   "cell_type": "code",
   "execution_count": 5,
   "id": "substantial-kinase",
   "metadata": {},
   "outputs": [],
   "source": [
    "latex_code = df_problems_list.to_latex()\n",
    "text_file = open(\"sensitivity_problems_list.tex\", \"w\")\n",
    "text_file.write(latex_code)\n",
    "text_file.close()"
   ]
  },
  {
   "cell_type": "code",
   "execution_count": null,
   "id": "occasional-bullet",
   "metadata": {},
   "outputs": [],
   "source": []
  }
 ],
 "metadata": {
  "kernelspec": {
   "display_name": "Python 3 (ipykernel)",
   "language": "python",
   "name": "python3"
  },
  "language_info": {
   "codemirror_mode": {
    "name": "ipython",
    "version": 3
   },
   "file_extension": ".py",
   "mimetype": "text/x-python",
   "name": "python",
   "nbconvert_exporter": "python",
   "pygments_lexer": "ipython3",
   "version": "3.9.6"
  }
 },
 "nbformat": 4,
 "nbformat_minor": 5
}
